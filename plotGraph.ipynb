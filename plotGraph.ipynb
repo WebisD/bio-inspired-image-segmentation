{
 "cells": [
  {
   "cell_type": "code",
   "execution_count": 1,
   "metadata": {},
   "outputs": [],
   "source": [
    "import matplotlib.pyplot as plt\n",
    "import numpy as np"
   ]
  },
  {
   "cell_type": "code",
   "execution_count": 2,
   "metadata": {},
   "outputs": [],
   "source": [
    "def plot_histogram_threshold(hist, threshs):\n",
    "    plt.plot(hist)\n",
    "    plt.title('histogram')\n",
    "    for t in threshs:\n",
    "        plt.axvline(x = t, color = 'r')"
   ]
  },
  {
   "cell_type": "code",
   "execution_count": 3,
   "metadata": {},
   "outputs": [],
   "source": [
    "def plot_image_histogram(img):\n",
    "    plt.figure(figsize=(15, 5)) \n",
    "    plt.subplot(1,2,1)\n",
    "    plt.imshow(img,cmap='gray')\n",
    "    plt.title('image')\n",
    "    plt.xticks([])\n",
    "    plt.yticks([])\n",
    "\n",
    "    plt.subplot(1,2,2)\n",
    "    hist,bin = np.histogram(img.ravel(),256,[0,255])\n",
    "    plt.xlim([0,255])\n",
    "    plt.plot(hist)\n",
    "    plt.title('histogram')\n",
    "\n",
    "    plt.show()"
   ]
  },
  {
   "cell_type": "code",
   "execution_count": 4,
   "metadata": {},
   "outputs": [],
   "source": [
    "def plot_image_histogram_threshold(img, hist, threshs):\n",
    "    plt.figure(figsize=(15, 5)) \n",
    "    plt.subplot(1,2,1)\n",
    "    plt.imshow(img,cmap='gray')\n",
    "    plt.title(f'Threshold(s): {threshs}')\n",
    "    plt.xticks([])\n",
    "    plt.yticks([])\n",
    "\n",
    "    plt.subplot(1,2,2)\n",
    "    plot_histogram_threshold(hist, threshs)\n",
    "\n",
    "    plt.show()"
   ]
  },
  {
   "cell_type": "code",
   "execution_count": 5,
   "metadata": {},
   "outputs": [],
   "source": [
    "def plot_histogram(hist):\n",
    "    plt.xlim([0,255])\n",
    "    plt.ylim([0,1])\n",
    "    plt.plot(hist)\n",
    "    plt.title('Histogram')"
   ]
  },
  {
   "cell_type": "code",
   "execution_count": 6,
   "metadata": {},
   "outputs": [],
   "source": [
    "def show_image(img, title):\n",
    "    plt.figure(figsize=(20, 7))\n",
    "    plt.title(title,fontsize=20) \n",
    "    plt.imshow(img, cmap='gray')\n",
    "    plt.plot()"
   ]
  }
 ],
 "metadata": {
  "kernelspec": {
   "display_name": "Python 3.10.4 ('tcc_env')",
   "language": "python",
   "name": "python3"
  },
  "language_info": {
   "codemirror_mode": {
    "name": "ipython",
    "version": 3
   },
   "file_extension": ".py",
   "mimetype": "text/x-python",
   "name": "python",
   "nbconvert_exporter": "python",
   "pygments_lexer": "ipython3",
   "version": "3.10.4"
  },
  "orig_nbformat": 4,
  "vscode": {
   "interpreter": {
    "hash": "50c3a715107fe4dcdc7dcc1225e41dc08fefd31cb688eb0c1f730ec66093fb86"
   }
  }
 },
 "nbformat": 4,
 "nbformat_minor": 2
}

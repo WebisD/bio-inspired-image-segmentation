{
 "cells": [
  {
   "cell_type": "code",
   "execution_count": 1,
   "metadata": {},
   "outputs": [],
   "source": [
    "import cv2\n",
    "import matplotlib.pyplot as plt\n",
    "import importlib\n",
    "import os\n",
    "from ipywidgets import interact\n",
    "from ipywidgets import interact_manual\n",
    "from IPython.display import display\n",
    "from ipywidgets import widgets"
   ]
  },
  {
   "cell_type": "code",
   "execution_count": 2,
   "metadata": {},
   "outputs": [
    {
     "data": {
      "text/plain": [
       "<module 'ipynb.fs.full.wspMultithreshold' (/mnt/6884ACCB84AC9CD6/OneDrive - FEI/Aulas/Graduacao/8 - Semestre/CC8421 - TRABALHO FINAL DE CURSO II/image-segmentation/wspMultithreshold.ipynb)>"
      ]
     },
     "execution_count": 2,
     "metadata": {},
     "output_type": "execute_result"
    }
   ],
   "source": [
    "import ipynb.fs.full.wspFFA as wspFirefly\n",
    "import ipynb.fs.full.wspCS as wspCuckooSearch\n",
    "import ipynb.fs.full.wspKH as wspKrillHerd\n",
    "import ipynb.fs.full.wspEHO as wspElephantHerding\n",
    "import ipynb.fs.full.wspABC as wspArtificialBeeColony\n",
    "\n",
    "import ipynb.fs.full.plotGraph as plotGraph\n",
    "import ipynb.fs.full.wspMultithreshold as wspMultithreshold\n",
    "\n",
    "importlib.reload(wspFirefly)\n",
    "importlib.reload(wspCuckooSearch)\n",
    "importlib.reload(wspKrillHerd)\n",
    "importlib.reload(wspElephantHerding)\n",
    "importlib.reload(wspArtificialBeeColony)\n",
    "\n",
    "importlib.reload(plotGraph)\n",
    "importlib.reload(wspMultithreshold)"
   ]
  },
  {
   "cell_type": "code",
   "execution_count": 3,
   "metadata": {},
   "outputs": [],
   "source": [
    "def readImage(img_path):\n",
    "    image = cv2.imread(img_path)\n",
    "    img = cv2.cvtColor(image, cv2.COLOR_BGR2GRAY)\n",
    "\n",
    "    return img"
   ]
  },
  {
   "cell_type": "code",
   "execution_count": 4,
   "metadata": {},
   "outputs": [],
   "source": [
    "bio_algorithm = ['FFA','KH', 'CS', 'ABC', 'EHO']"
   ]
  },
  {
   "cell_type": "code",
   "execution_count": 5,
   "metadata": {},
   "outputs": [],
   "source": [
    "folder_dir = \"images\"\n",
    "\n",
    "all_images = []\n",
    "\n",
    "for file in os.listdir(folder_dir):\n",
    "    if file.endswith('.png') or file.endswith('.jpg'):\n",
    "        all_images.append(file)"
   ]
  },
  {
   "cell_type": "code",
   "execution_count": 6,
   "metadata": {},
   "outputs": [],
   "source": [
    "def main(image, algorithm, dimension, q):\n",
    "    img = readImage(f\"images/{image}\")\n",
    "\n",
    "    plotGraph.plot_image_histogram(img)\n",
    "    \n",
    "    hist, best_thresholds, img_thres = wspMultithreshold.wspMultithreshold(img, algorithm, dimension, q)\n",
    "\n",
    "    plotGraph.plot_image_histogram_threshold(img_thres, hist, best_thresholds)"
   ]
  },
  {
   "cell_type": "code",
   "execution_count": 7,
   "metadata": {},
   "outputs": [
    {
     "data": {
      "application/vnd.jupyter.widget-view+json": {
       "model_id": "eadb2af34f9443dba66867447e404e1d",
       "version_major": 2,
       "version_minor": 0
      },
      "text/plain": [
       "interactive(children=(Dropdown(description='image', options=('lenna.png', 'ocranio.jpg', 'piano.jpg', 'zcam.pn…"
      ]
     },
     "metadata": {},
     "output_type": "display_data"
    },
    {
     "data": {
      "text/plain": [
       "<function __main__.main(image, algorithm, dimension, q)>"
      ]
     },
     "execution_count": 7,
     "metadata": {},
     "output_type": "execute_result"
    }
   ],
   "source": [
    "interact_manual(main, image=all_images, algorithm=bio_algorithm, \n",
    "    dimension=widgets.IntSlider(min=1, max=5, step=1, value=3),\n",
    "    q=widgets.FloatSlider(min=-2, max=2, step=0.1, value=0.5))"
   ]
  }
 ],
 "metadata": {
  "kernelspec": {
   "display_name": "Python 3.10.4 ('tcc_env')",
   "language": "python",
   "name": "python3"
  },
  "language_info": {
   "codemirror_mode": {
    "name": "ipython",
    "version": 3
   },
   "file_extension": ".py",
   "mimetype": "text/x-python",
   "name": "python",
   "nbconvert_exporter": "python",
   "pygments_lexer": "ipython3",
   "version": "3.10.4"
  },
  "orig_nbformat": 4,
  "vscode": {
   "interpreter": {
    "hash": "50c3a715107fe4dcdc7dcc1225e41dc08fefd31cb688eb0c1f730ec66093fb86"
   }
  }
 },
 "nbformat": 4,
 "nbformat_minor": 2
}

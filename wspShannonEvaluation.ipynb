{
 "cells": [
  {
   "cell_type": "code",
   "execution_count": 1,
   "metadata": {},
   "outputs": [],
   "source": [
    "import math\n",
    "import numpy as np"
   ]
  },
  {
   "cell_type": "markdown",
   "metadata": {},
   "source": [
    "### Shannon's Entropy\n",
    "\n",
    "$P(H) = \\{h_1, h_2, ..., h_L\\}$\n",
    "\n",
    "$$S(H) = - \\sum_{i=1}^{L}h_i \\log_{e}(h_i)$$\n"
   ]
  },
  {
   "cell_type": "code",
   "execution_count": 2,
   "metadata": {},
   "outputs": [],
   "source": [
    "def ShannonEntropy(hist):\n",
    "    sum_region = np.sum(hist)\n",
    "    if sum_region > 0:\n",
    "        hist = hist/sum_region\n",
    "    \n",
    "    S = 0\n",
    "    \n",
    "    for h_i in hist:\n",
    "        if h_i != 0:\n",
    "            S = S + h_i * math.log(h_i)\n",
    "    \n",
    "    return -S"
   ]
  },
  {
   "cell_type": "code",
   "execution_count": 3,
   "metadata": {},
   "outputs": [],
   "source": [
    "def wspShannonEvaluation(hist, thresholds, q=1):\n",
    "    thresholds = np.concatenate([[0], thresholds, [255]])\n",
    "\n",
    "    n = len(thresholds)\n",
    "\n",
    "    a = thresholds[0]+1\n",
    "    b = thresholds[1]\n",
    "\n",
    "    light = ShannonEntropy(hist[a:b+1])\n",
    "    \n",
    "    for i in range(1, n-1):\n",
    "        a = thresholds[i]+1\n",
    "        b = thresholds[i+1]\n",
    "\n",
    "        ES = ShannonEntropy(hist[a:b+1])\n",
    "        light += ES\n",
    "    \n",
    "    return light\n"
   ]
  }
 ],
 "metadata": {
  "kernelspec": {
   "display_name": "Python 3.10.4 ('tcc_env')",
   "language": "python",
   "name": "python3"
  },
  "language_info": {
   "codemirror_mode": {
    "name": "ipython",
    "version": 3
   },
   "file_extension": ".py",
   "mimetype": "text/x-python",
   "name": "python",
   "nbconvert_exporter": "python",
   "pygments_lexer": "ipython3",
   "version": "3.10.4"
  },
  "orig_nbformat": 4,
  "vscode": {
   "interpreter": {
    "hash": "50c3a715107fe4dcdc7dcc1225e41dc08fefd31cb688eb0c1f730ec66093fb86"
   }
  }
 },
 "nbformat": 4,
 "nbformat_minor": 2
}

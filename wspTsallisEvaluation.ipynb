{
 "cells": [
  {
   "cell_type": "code",
   "execution_count": 2,
   "metadata": {},
   "outputs": [],
   "source": [
    "import numpy as np"
   ]
  },
  {
   "cell_type": "markdown",
   "metadata": {},
   "source": [
    "### Tsallis' Entropy\n",
    "\n",
    "$$S_q(H) = \\frac{1 - \\sum_{i=1}^{L}(h_i)^q}{q-1}$$\n"
   ]
  },
  {
   "cell_type": "code",
   "execution_count": 1,
   "metadata": {},
   "outputs": [],
   "source": [
    "def TsallisEntropy(hist, q):\n",
    "    sum_region = np.sum(hist)\n",
    "    if sum_region > 0:\n",
    "        hist = hist/sum_region\n",
    "    \n",
    "    S_q = 0\n",
    "\n",
    "    sums = 0\n",
    "\n",
    "    for h_i in hist:\n",
    "        if h_i > 0:\n",
    "            sums = sums + h_i**q\n",
    "\n",
    "    S_q = (1 - sums)/(q-1)\n",
    "\n",
    "    return S_q"
   ]
  },
  {
   "cell_type": "code",
   "execution_count": null,
   "metadata": {},
   "outputs": [],
   "source": [
    "def wspTsallisEvaluation(hist, thresholds, q):\n",
    "    thresholds = np.concatenate([[0], thresholds, [255]])\n",
    "\n",
    "    n = len(thresholds)\n",
    "\n",
    "    a = thresholds[0]+1\n",
    "    b = thresholds[1]\n",
    "\n",
    "    light = TsallisEntropy(hist[a:b+1], q)\n",
    "\n",
    "    if np.isnan(light):\n",
    "        light = 0\n",
    "\n",
    "    Plight = light\n",
    "\n",
    "    for i in range(1, n-1):\n",
    "        a = thresholds[i]+1\n",
    "        b = thresholds[i+1]\n",
    "\n",
    "        ES = TsallisEntropy(hist[a:b+1], q)\n",
    "        if not np.isnan(ES):\n",
    "            light += ES\n",
    "            Plight = Plight * ES\n",
    "    \n",
    "    #light = light + (1-q) * Plight\n",
    "\n",
    "    return light"
   ]
  }
 ],
 "metadata": {
  "kernelspec": {
   "display_name": "Python 3.10.4 ('tcc_env')",
   "language": "python",
   "name": "python3"
  },
  "language_info": {
   "codemirror_mode": {
    "name": "ipython",
    "version": 3
   },
   "file_extension": ".py",
   "mimetype": "text/x-python",
   "name": "python",
   "nbconvert_exporter": "python",
   "pygments_lexer": "ipython3",
   "version": "3.10.4"
  },
  "orig_nbformat": 4,
  "vscode": {
   "interpreter": {
    "hash": "50c3a715107fe4dcdc7dcc1225e41dc08fefd31cb688eb0c1f730ec66093fb86"
   }
  }
 },
 "nbformat": 4,
 "nbformat_minor": 2
}
